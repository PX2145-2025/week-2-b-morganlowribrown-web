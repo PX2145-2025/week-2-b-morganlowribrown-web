{
  "cells": [
    {
      "cell_type": "markdown",
      "metadata": {
        "id": "view-in-github",
        "colab_type": "text"
      },
      "source": [
        "<a href=\"https://colab.research.google.com/github/PX2145-2025/week-2-b-morganlowribrown-web/blob/main/Functions.ipynb\" target=\"_parent\"><img src=\"https://colab.research.google.com/assets/colab-badge.svg\" alt=\"Open In Colab\"/></a>"
      ]
    },
    {
      "cell_type": "markdown",
      "metadata": {
        "id": "wcYzdesOG2DB"
      },
      "source": [
        "# Feedback for week 1 and other and hints\n",
        "\n",
        "We are working with [Jupyter notebooks](https://jupyter.org/). You can either run those in the [Google Colab](https://colab.research.google.com/notebooks/intro.ipynb) environment, or on your own computer with [Anaconda3](https://www.anaconda.com/distribution/#download-section).\n",
        "\n",
        "1. Be careful about your environment remembering variables. Make sure your code works in a new _clean_ environment. In Colab: `Runtime`->`restart Runtime`, in Anaconda's Jupyter: `Kernel`->`Restart`.\n",
        "2. Graphs without labels (or units when appropriate) are not worth any point.\n",
        "4. If you are using `loadtxt()` to read in from a file where the numbers are separated by commas, you need to use the keyword `delimiter=','`.\n",
        "5. If you are asked to plot a function (for example $y = x^2$ in question 2 last week, or the 2D function of question 3) you will need to think for yourself the best way to do this - deciding the number of points and the range of values etc.\n",
        "6. Always explore the options of Python functions using the in-built help or refer to https://docs.scipy.org/ and https://www.python.org/doc/.\n",
        "\n",
        "For this week we will need the following imports:"
      ]
    },
    {
      "cell_type": "code",
      "execution_count": null,
      "metadata": {
        "id": "3C4LDHUkG2DC"
      },
      "outputs": [],
      "source": [
        "from numpy import array,sqrt,pi,sin"
      ]
    },
    {
      "cell_type": "markdown",
      "metadata": {
        "id": "RLIIkmraG2DG"
      },
      "source": [
        "# Introduction\n",
        "\n",
        "In this worksheet we’ll introduce Python functions. Functions are important in any programming language since they enable code to be simply re-used in a program (and other programs). They also help break up complex problems into simpler pieces and therefore make the code simpler and clearer.\n",
        "Functions are most easily understood by example:\n",
        "## Simple functions\n",
        "Run the following code:"
      ]
    },
    {
      "cell_type": "code",
      "execution_count": null,
      "metadata": {
        "colab": {
          "base_uri": "https://localhost:8080/"
        },
        "id": "AbUJtLHMG2DH",
        "outputId": "184645ce-95bb-4cf2-90ee-5678b66564ee"
      },
      "outputs": [
        {
          "output_type": "stream",
          "name": "stdout",
          "text": [
            "Cube of 3.1 is 29.791000000000004\n",
            "Cube of 3.1 is 29.791000000000004\n",
            "Cube of 1.3 is 2.1970000000000005\n"
          ]
        }
      ],
      "source": [
        "def cube(x):\n",
        "    \"\"\"\n",
        "    Return the cube of x\n",
        "    >>> cube(3)\n",
        "    27\n",
        "    \"\"\"\n",
        "    return x * x * x\n",
        "\n",
        "x = 3.1\n",
        "print('Cube of', x, 'is', cube(x))\n",
        "'''\n",
        "Of course, we don't have to use the same variable name 'x'. This is\n",
        "a 'dummy variable' in the function.\n",
        "'''\n",
        "y = 3.1\n",
        "print('Cube of', y, 'is', cube(y))\n",
        "\n",
        "print('Cube of', 1.3, 'is', cube(1.3))"
      ]
    },
    {
      "cell_type": "markdown",
      "metadata": {
        "id": "amaQagttG2DL"
      },
      "source": [
        "The keyword `def` marks the start of the definition of a function. This is followed by the name of the function and any parameters that are to be passed into the function. The keyword `return` is used if the function needs to return parameters. Not all functions will need to do this - they might just perform a series of actions. For example:"
      ]
    },
    {
      "cell_type": "code",
      "execution_count": null,
      "metadata": {
        "colab": {
          "base_uri": "https://localhost:8080/"
        },
        "id": "tnzUNcKTG2DM",
        "outputId": "cfa50bc8-4430-4719-99a1-3d5fd5228e5f"
      },
      "outputs": [
        {
          "output_type": "stream",
          "name": "stdout",
          "text": [
            "Cube of 3 is 27\n"
          ]
        }
      ],
      "source": [
        "# Define a simple function ...\n",
        "def print_cube(x):\n",
        "    \"\"\"\n",
        "    Prints the cube of x\n",
        "    >>> print_cube(3)\n",
        "    Cube of 3 is 27\n",
        "    \"\"\"\n",
        "    print ('Cube of', x, 'is', x * x * x)\n",
        "\n",
        "print_cube(3)"
      ]
    },
    {
      "cell_type": "markdown",
      "metadata": {
        "id": "DsU6dZZzG2DO"
      },
      "source": [
        "What do you expect the following code snippet will print out?"
      ]
    },
    {
      "cell_type": "code",
      "execution_count": null,
      "metadata": {
        "colab": {
          "base_uri": "https://localhost:8080/"
        },
        "id": "-tS7arGDG2DP",
        "outputId": "44e8cc37-8071-43c9-b5c7-7a2eb446e699"
      },
      "outputs": [
        {
          "output_type": "stream",
          "name": "stdout",
          "text": [
            "Original value 2\n",
            "After function call 2\n"
          ]
        }
      ],
      "source": [
        "# Define a simple function ...\n",
        "def quad(x):\n",
        "    \"\"\"\n",
        "    Return the fourth power of x\n",
        "    >>> quad(3)\n",
        "    81\n",
        "    \"\"\"\n",
        "    x = x**4\n",
        "    return x\n",
        "\n",
        "x = 2\n",
        "print('Original value', x)\n",
        "quad(x)\n",
        "print('After function call', x)"
      ]
    },
    {
      "cell_type": "markdown",
      "metadata": {
        "id": "F2eRolK7G2DU"
      },
      "source": [
        "**Note**: the functions above have a short string describing what they do, and give an example of how to use them. Writing the function documation that way in `python` has two advanges. First, it will get picked up by built-in help systems, and second it can get run automatically by software that check the health of the code. We are using such a software, [doctest](https://docs.python.org/3/library/doctest.html#module-doctest), in this classroom setup. So in this latest example, `doctest` tries to run `quad(3)` and checks if the answer is indeed `81`. There are such tests included in the exercises. Don't remove them, they are here to help you iterate over the right solution.\n",
        "\n",
        "Functions can be rather flexible in how they work. For example, we can define a simple function which is a linear function of an input variable x, and it will work for both a simple variable or an array:"
      ]
    },
    {
      "cell_type": "code",
      "execution_count": null,
      "metadata": {
        "colab": {
          "base_uri": "https://localhost:8080/"
        },
        "id": "9BS0CzDNG2DV",
        "outputId": "b5ed585f-b8bd-4163-a794-40869c7f55a9"
      },
      "outputs": [
        {
          "output_type": "stream",
          "name": "stdout",
          "text": [
            "Cube of 3 is 27\n",
            "3.4\n"
          ]
        }
      ],
      "source": [
        "# Define a simple function ...\n",
        "def print_cube(x):\n",
        "    \"\"\"\n",
        "    Prints the cube of x\n",
        "    >>> print_cube(3)\n",
        "    Cube of 3 is 27\n",
        "    \"\"\"\n",
        "    print('Cube of', x, 'is', x * x * x)\n",
        "\n",
        "print_cube(3)\n",
        "\n",
        "# Define a less simple function ...\n",
        "def linear(x, m, c):\n",
        "    '''\n",
        "    This returns a linear function of a variable x\n",
        "    '''\n",
        "    return m*x + c\n",
        "\n",
        "x = 1.2\n",
        "y = linear(x, 2, 1)\n",
        "print(y)"
      ]
    },
    {
      "cell_type": "code",
      "execution_count": null,
      "metadata": {
        "colab": {
          "base_uri": "https://localhost:8080/"
        },
        "id": "pLb4X8k3G2DX",
        "outputId": "6ea70783-735a-4623-a5e2-5de4904c14e4"
      },
      "outputs": [
        {
          "output_type": "stream",
          "name": "stdout",
          "text": [
            "[ 1.  3.  5.  7.  9. 11. 13. 15.]\n"
          ]
        }
      ],
      "source": [
        "# Create a data array ...\n",
        "x = array([ 0.0, 1.0, 2.0, 3.0, 4.0, 5.0, 6.0, 7.0 ])\n",
        "y = linear(x, 2, 1)\n",
        "print(y)"
      ]
    },
    {
      "cell_type": "markdown",
      "metadata": {
        "id": "BPxpC6iJG2Da"
      },
      "source": [
        "## More about functions\n",
        "Sometimes, there can be lots of variables that remain the same when calling a function. If that’s the case you can simplify the syntax a bit. For example, let’s write a function to find how long it takes a mass to hit the ground when dropped (from rest) from a height h. The function will look like:"
      ]
    },
    {
      "cell_type": "code",
      "execution_count": null,
      "metadata": {
        "id": "Zhs4BHHCG2Da"
      },
      "outputs": [],
      "source": [
        "def T(h, g):\n",
        "    '''\n",
        "    Returns fall time [s] of a mass released from a height\n",
        "    h [m] above the Earth's surface. g in ms^-2.\n",
        "    '''\n",
        "    return sqrt(2*h/g)"
      ]
    },
    {
      "cell_type": "markdown",
      "metadata": {
        "id": "eiKjxDt-G2Dc"
      },
      "source": [
        "This is called as follows:"
      ]
    },
    {
      "cell_type": "code",
      "execution_count": null,
      "metadata": {
        "colab": {
          "base_uri": "https://localhost:8080/"
        },
        "id": "jUWeQGAgG2Dd",
        "outputId": "2a611782-7953-4bb6-daeb-3708c19c0864"
      },
      "outputs": [
        {
          "output_type": "stream",
          "name": "stdout",
          "text": [
            "Time from 1 metre is 0.4517539514526256 s\n"
          ]
        }
      ],
      "source": [
        "height = 1  # metre\n",
        "print ('Time from', height, 'metre', 'is' , T(height, 9.8),'s')"
      ]
    },
    {
      "cell_type": "markdown",
      "metadata": {
        "id": "pM_SOHN6G2Df"
      },
      "source": [
        "You *could* program this with a hard-coded value for g, to make the function call simpler:"
      ]
    },
    {
      "cell_type": "code",
      "execution_count": null,
      "metadata": {
        "colab": {
          "base_uri": "https://localhost:8080/"
        },
        "id": "dyxgqYqKG2Df",
        "outputId": "b8ea1fe1-6a51-473f-b9ca-747453fb1ad5"
      },
      "outputs": [
        {
          "output_type": "stream",
          "name": "stdout",
          "text": [
            "Time from 1 metre is 0.4515236409857309 s\n"
          ]
        }
      ],
      "source": [
        "def T(h):\n",
        "    '''\n",
        "    Returns fall time [s] of a mass released from a height\n",
        "    h [m] above the Earth's surface.\n",
        "    '''\n",
        "    g=9.81 # in ms^-2\n",
        "    return sqrt(2*h/g)\n",
        "\n",
        "height = 1 # metre\n",
        "print ('Time from', height, 'metre', 'is' , T(height),'s')"
      ]
    },
    {
      "cell_type": "markdown",
      "metadata": {
        "id": "qc7y9fojG2Dk"
      },
      "source": [
        "but then of course it wouldn’t work for Mars’ gravity. A better way is"
      ]
    },
    {
      "cell_type": "code",
      "execution_count": null,
      "metadata": {
        "colab": {
          "base_uri": "https://localhost:8080/"
        },
        "id": "Fm2wr1XyG2Dk",
        "outputId": "663a53e2-5338-425a-f840-a9835fa5614f"
      },
      "outputs": [
        {
          "output_type": "stream",
          "name": "stdout",
          "text": [
            "Time from 1 metre on Earth is 0.4515236409857309 s\n",
            "Time from 1 metre on Mars is 0.7352146220938077 s\n"
          ]
        }
      ],
      "source": [
        "def T(h, g=9.81):\n",
        "    '''\n",
        "    Returns fall time [s] of a mass released from a height\n",
        "    h [m] above a planet's surface. Default g is 9.81 ms^-2\n",
        "    '''\n",
        "    return sqrt(2*h/g)\n",
        "\n",
        "height = 1  # metre\n",
        "print('Time from', height, 'metre', 'on Earth is' , T(height),'s')\n",
        "print('Time from', height, 'metre', 'on Mars is' , T(height, g=3.7),'s')"
      ]
    },
    {
      "cell_type": "code",
      "execution_count": null,
      "metadata": {
        "id": "C9OQfaEeHTg_",
        "outputId": "4c20a2f1-552a-4a27-aba5-ccbdae650eff",
        "colab": {
          "base_uri": "https://localhost:8080/"
        }
      },
      "outputs": [
        {
          "output_type": "stream",
          "name": "stdout",
          "text": [
            "Time from 1 metre on Earth is 0.4515236409857309 s\n",
            "Time from 2 metre on Earth is 0.638550856814101 s\n",
            "Time from 5 metre on Earth is 1.0096375546923044 s\n",
            "Time from 10 metre on Earth is 1.4278431229270645 s\n"
          ]
        }
      ],
      "source": [
        "for height in [1,2,5,10]:\n",
        "    print('Time from', height, 'metre', 'on Earth is' , T(height),'s')"
      ]
    },
    {
      "cell_type": "markdown",
      "metadata": {
        "id": "OcYE3uDWG2Dm"
      },
      "source": [
        "You can easily extend this to any number of variables. **IMPORTANT**: remember, documentation is part of the code. You should always add a description of a function, especially its inputs and outputs.\n",
        "## Formatting - a reminder\n",
        "You’ll often want to control the number of significant figures that you print out, or use scientific rather than floating point representation of numbers. Remember that you can achieve this in the following ways for example:"
      ]
    },
    {
      "cell_type": "code",
      "execution_count": null,
      "metadata": {
        "colab": {
          "base_uri": "https://localhost:8080/"
        },
        "id": "NIdPD-snG2Dn",
        "outputId": "40defdc0-4e22-4eef-972c-e1b1c146ff67"
      },
      "outputs": [
        {
          "output_type": "stream",
          "name": "stdout",
          "text": [
            "pi is approximately 3.142.\n",
            "pi is approximately 3.142.\n",
            "8.7 75.90 661.2316\n"
          ]
        }
      ],
      "source": [
        "# recommended method\n",
        "print('pi is approximately {0:.3f}.'.format(pi))\n",
        "# old method you'll see in some code\n",
        "print('pi is approximately %5.3f.' % pi)\n",
        "# the new method is quite powerful ...\n",
        "x = 8.712\n",
        "print('{0:3.1f} {1:3.2f} {2:3.4f}'.format(x, x*x, x*x*x))"
      ]
    },
    {
      "cell_type": "markdown",
      "metadata": {
        "id": "tWtA6Nr9G2Dq"
      },
      "source": [
        "## Packages and functions\n",
        "You’ve already used functions before of course, if not defined them. Some of these functions can be imported by default at the start of your program. But to import extra functions that are not available we have to use something like:"
      ]
    },
    {
      "cell_type": "code",
      "execution_count": null,
      "metadata": {
        "id": "lXpVdGTAG2Dr"
      },
      "outputs": [],
      "source": [
        "from scipy import integrate"
      ]
    },
    {
      "cell_type": "markdown",
      "metadata": {
        "id": "m41_kAklG2Du"
      },
      "source": [
        "You saw this used when doing numerical integration in PX1224 last year. It’s often convenient to save your own functions in ‘packages’ (or ‘modules’) for future use. This way, if you develop lots of useful functions you have them simply available.\n",
        "\n",
        "Let’s test this out. We will save the following python code in a file called `px2134.py`:\n",
        "\n",
        "```python\n",
        "# A test of writing a simple package.\n",
        "# Define a simple function ...\n",
        "def mycube(x):\n",
        "    return x * x * x\n",
        "```\n",
        "\n",
        "The cell below is saving this code to the `px2134.py` file. In this class we will do this within the notebook to keep all in the same place. But in general one can simply create this `.py` file, (called a _python script_) with any editor one likes (you have used Spyder last year)."
      ]
    },
    {
      "cell_type": "code",
      "execution_count": null,
      "metadata": {
        "id": "OGAInUjPHThJ",
        "outputId": "05ecf610-7155-40bf-8fec-7ad161418168",
        "colab": {
          "base_uri": "https://localhost:8080/"
        }
      },
      "outputs": [
        {
          "output_type": "stream",
          "name": "stdout",
          "text": [
            "Overwriting px2134.py\n"
          ]
        }
      ],
      "source": [
        "%%writefile px2134.py\n",
        "\n",
        "# A test of writing a simple package.\"\n",
        "# Define a simple function ...\"\n",
        "def mycube(x):\n",
        "    return x * x * x\n"
      ]
    },
    {
      "cell_type": "markdown",
      "metadata": {
        "id": "61jkBamaKcxL"
      },
      "source": [
        "You can test out the code like this:"
      ]
    },
    {
      "cell_type": "code",
      "execution_count": null,
      "metadata": {
        "colab": {
          "base_uri": "https://localhost:8080/"
        },
        "id": "wJJuLLtrG2Du",
        "outputId": "a533bce8-afe1-417f-f99c-4fe065176b20"
      },
      "outputs": [
        {
          "output_type": "stream",
          "name": "stdout",
          "text": [
            "Cube of 3.1 is 29.791000000000004\n"
          ]
        }
      ],
      "source": [
        "from px2134 import *\n",
        "x = 3.1\n",
        "print ('Cube of', x, 'is', mycube(x))"
      ]
    },
    {
      "cell_type": "markdown",
      "metadata": {
        "id": "e4SvOSt1G2Dw"
      },
      "source": [
        "Generally, it’s better not to import everything in one go, which is what the syntax `from <some_package import> *` does. It’s nicer to know (i) what you are importing and (ii) where it comes from, especially if you are importing several modules. The better syntax to employ is:"
      ]
    },
    {
      "cell_type": "code",
      "execution_count": null,
      "metadata": {
        "colab": {
          "base_uri": "https://localhost:8080/"
        },
        "id": "b3ZUtAloG2Dw",
        "outputId": "3a25766c-e836-4cd7-832a-4da54834242b"
      },
      "outputs": [
        {
          "output_type": "stream",
          "name": "stdout",
          "text": [
            "27\n"
          ]
        }
      ],
      "source": [
        "from px2134 import mycube # Imports just this function\n",
        "print (cube(3))\n",
        "from math import log, exp # Imports several functions"
      ]
    },
    {
      "cell_type": "markdown",
      "metadata": {
        "id": "ltztnJFHG2D0"
      },
      "source": [
        "Often, you will see packages imported like this:"
      ]
    },
    {
      "cell_type": "code",
      "execution_count": null,
      "metadata": {
        "colab": {
          "base_uri": "https://localhost:8080/"
        },
        "id": "qcGCvifnG2D0",
        "outputId": "a5edb925-b251-4ffa-b0b4-17ca9e34748b"
      },
      "outputs": [
        {
          "output_type": "stream",
          "name": "stdout",
          "text": [
            "27\n"
          ]
        }
      ],
      "source": [
        "import px2134 # Imports the package itself\n",
        "print (px2134.mycube(3)) # But functions then need to be called like this"
      ]
    },
    {
      "cell_type": "markdown",
      "metadata": {
        "id": "CRr9-bzAG2D2"
      },
      "source": [
        "You can make it a bit nicer by having a name of your choice when importing:"
      ]
    },
    {
      "cell_type": "code",
      "execution_count": null,
      "metadata": {
        "colab": {
          "base_uri": "https://localhost:8080/"
        },
        "id": "t09udDr5G2D2",
        "outputId": "ae5ac4e3-bbdb-46f9-9dc4-dd49894b594e"
      },
      "outputs": [
        {
          "output_type": "stream",
          "name": "stdout",
          "text": [
            "27\n"
          ]
        }
      ],
      "source": [
        "import px2134 as px # Imports the package\n",
        "print (px.mycube(3)) # Functions called like this"
      ]
    },
    {
      "cell_type": "markdown",
      "metadata": {
        "id": "Z9PJ7ZvCG2D4"
      },
      "source": [
        "Large packages are often split into smaller sub-packages, called modules. A module within a larger package is referred to as `packagename.modulename`. There are many useful mathematical facilities available in the numpy package - e.g. linear algebra and Fourier transform modules. Thus the linear algebra module is called `numpy.linalg` and the (fast) Fourier transform module is called `numpy.fft`. We can import a function from a module like this:"
      ]
    },
    {
      "cell_type": "code",
      "execution_count": null,
      "metadata": {
        "id": "QYZSzW-zG2D5"
      },
      "outputs": [],
      "source": [
        "from numpy.linalg import inv"
      ]
    },
    {
      "cell_type": "markdown",
      "metadata": {
        "caption": "function diagrams",
        "id": "_CWMKP7GG2D7",
        "label": "fig:functions",
        "widefigure": true
      },
      "source": [
        "## Thinking about functions\n",
        "When functions are new to you it is easy to fall into the trap of using them poorly. You should always keep in mind that functions are for simplifying programs by providing a *re-usable* piece of code. They therefore MUST be self-contained and have a well-defined user interface – that is, they will normally input data of a particular form and output data (or perform a defined action) of a particular form, *independent of the rest of the program*.\n",
        "This is illustrated in the sketches below. Functions that a user might want to call a great many time in a row won't include `print` or `plot` statements. A function is regarded as a “black box” taking in data and giving out data. This is what the `sin` function does for example and what our `cube` function did.\n",
        "![Figure 1: function diagrams](https://raw.githubusercontent.com/PX2134/images/master/week2/functions.001.png \"Figure 1: function diagrams.\")"
      ]
    },
    {
      "cell_type": "markdown",
      "metadata": {
        "id": "xQa2kzbzG2D7"
      },
      "source": [
        "# Exercises\n",
        "This must be marked before you leave the lab. Mark weighting is in brackets.\n",
        "**Save your work to GitHub after having run all cells with `Runtime` -> `Restart and run all`. And do not change the notebook's filename.** Do add comments to your code, you'll lose points if your code is hard to understand. Graphs without labels (or units when appropriate) are not worth any point.\n",
        "\n",
        "## Exercise 0\n",
        "[0] Write a function `convert(angle)` to convert angles in degrees to radians. Write another function `recenter(angle)` to wrap angles in radian into the $(-\\pi,\\pi]$ interval. Save those two functions into a file named `anglesutils.py`.\n",
        "\n",
        "A centrifuge's loading position at $t=0\\,\\text{s}$ is $45^\\circ$ degrees, and start accelerating at $\\alpha=2^{\\circ}\\,\\text{s}^{-2}$. So it's position in degrees is given as a function of time (in seconds) by:\n",
        "\n",
        "$$\n",
        "position(t)=45+\\frac{1}{2}\\,2\\,t^2\n",
        "$$\n",
        "\n",
        "Use the `anglesutils` module you just created to plot that function from $t=0\\,\\text{s}$ to $t=30\\,\\text{s}$ in radian in the $(-\\pi,\\pi]$ interval.\n",
        "\n",
        "(this exercise is for demonstration purposes and won't be marked)"
      ]
    },
    {
      "cell_type": "code",
      "source": [
        "import numpy as np\n",
        "import matplotlib.pyplot as plt\n",
        "import math"
      ],
      "metadata": {
        "id": "pD6CV4ipM4oo"
      },
      "execution_count": 3,
      "outputs": []
    },
    {
      "cell_type": "code",
      "source": [
        "#wasnt sure of the shortcut but using maths this is how you hardcode something in.\n",
        "degrees = 180\n",
        "radians = degrees * (np.pi / 180 )\n",
        "print(radians)\n",
        "\n",
        "radians1 = math.radians(degrees)\n",
        "print(radians1)\n",
        "#this is using a different function that the question was asking us to use\n",
        "\n",
        "def T(degrees, thing = np.pi/180):\n",
        "    return (degrees*thing)\n",
        "\n",
        "# metre\n",
        "degree1 = 180\n",
        "print('Coverting the degrees', degree1, 'to radians' , T(degree1))"
      ],
      "metadata": {
        "id": "cRH_bTHaH_X5",
        "outputId": "5e4a5459-74b8-4484-95ba-4dea5f266a61",
        "colab": {
          "base_uri": "https://localhost:8080/"
        }
      },
      "execution_count": null,
      "outputs": [
        {
          "output_type": "stream",
          "name": "stdout",
          "text": [
            "3.141592653589793\n",
            "3.141592653589793\n",
            "Coverting the degrees 180 to radians 3.141592653589793\n"
          ]
        }
      ]
    },
    {
      "cell_type": "code",
      "source": [
        "def recenter(angle):#this is the line that defines the function name and accepts the argument\n",
        "    \"\"\"\n",
        "    Wrap angles in radians into the (-pi, pi] interval.\n",
        "    >>> recenter(np.pi*3/2)\n",
        "    -1.5707963267948966\n",
        "    >>> recenter(np.pi*5/2)\n",
        "    1.5707963267948966\n",
        "    \"\"\"\n",
        "    return (angle + np.pi) % (2 * np.pi) - np.pi\n",
        "#(angle+pi) this is the one that starts from 0\n",
        "#(2*pi) the thing that wraps the angels????\n",
        "#-pi is the was that brings it back into the range that we need\n",
        "print(recenter(np.pi*3/2))\n",
        "print(recenter(np.pi*5/2))"
      ],
      "metadata": {
        "id": "YWoLHbmGIHTN",
        "outputId": "a0de1991-a9b7-4078-fd24-3dac98a61aba",
        "colab": {
          "base_uri": "https://localhost:8080/"
        }
      },
      "execution_count": null,
      "outputs": [
        {
          "output_type": "stream",
          "name": "stdout",
          "text": [
            "-1.5707963267948966\n",
            "1.5707963267948966\n"
          ]
        }
      ]
    },
    {
      "cell_type": "markdown",
      "metadata": {
        "id": "FR7DXBKjHTh9"
      },
      "source": [
        "## Exercise 1\n",
        "\n",
        "[4] Define a function `func1(time,amplitude,frequency,phase)` which returns a sine wave (as a function of time) of chosen amplitude, frequency and phase. Test it out with different amplitude, frequency and phase values by plotting suitable graphs. Set the default values for ampliture, frequency and phase to be 1, 1 and 0, respectively."
      ]
    },
    {
      "cell_type": "code",
      "execution_count": null,
      "metadata": {
        "id": "3CqRmkbFHTh_",
        "outputId": "84a28bd1-d2a3-4b77-98db-28bd371272ec",
        "colab": {
          "base_uri": "https://localhost:8080/",
          "height": 472
        }
      },
      "outputs": [
        {
          "output_type": "display_data",
          "data": {
            "text/plain": [
              "<Figure size 640x480 with 1 Axes>"
            ],
            "image/png": "[encoded data removed]"
          },
          "metadata": {}
        }
      ],
      "source": [
        "#this is using the funtions abouve to define a fucntion and then return\n",
        "#an answer from it using the equation for\n",
        "#\\(y=A\\sin (2\\pi ft+\\phi )\\)\n",
        "#then have to set intial defolt things for it to follow such as the amp, freq and the phase\n",
        "\n",
        "def func1(time, amplitude=1, frequency=1, phase=0):\n",
        "    return amplitude * np.sin(2 * np.pi * frequency * time + phase)\n",
        "\n",
        "# Test the function with chosen intial values\n",
        "#the 0 and 10 define the start and stop values, 100 is the generate points\n",
        "# these can be altered and changed accordingly\n",
        "original = np.linspace(0, 4, 100)\n",
        "y_orignial = func1(original)\n",
        "plt.plot(original, y_orignial, label='Default')\n",
        "\n",
        "# Test with different parameters\n",
        "#this one is then chanigng the amplitude\n",
        "y_amp = func1(original, amplitude=2)\n",
        "plt.plot(original, y_amp, label='Amplitude=2')\n",
        "\n",
        "#this is using the original things and changing the frequecny\n",
        "y_freq = func1(original, frequency=0.5)\n",
        "plt.plot(original, y_freq, label='Frequency=0.5')\n",
        "\n",
        "#this is using the origianl code and then chaning the phase which should always be in terms of pi\n",
        "y_phase = func1(original, phase=np.pi/2)\n",
        "plt.plot(original, y_phase, label='Phase=pi/2')\n",
        "\n",
        "#this is just making the graph look nice and things\n",
        "plt.xlabel('Time')\n",
        "plt.ylabel('Amplitude')\n",
        "plt.title('Sine Wave with Different Parameters')\n",
        "plt.legend()\n",
        "plt.grid()\n",
        "plt.show()"
      ]
    },
    {
      "cell_type": "markdown",
      "metadata": {
        "id": "7Nxtd33zHTiA"
      },
      "source": [
        "## Exercise 2\n",
        "\n",
        "A satellite has a circular orbit around the Earth with a period $T$.\n",
        "  1. [2] Prove that its altitude $h$ above the Earth‘s surface is ($M$ is Earth’s mass and $R$ its radius):\n",
        "$$h={\\left ( \\frac{GMT^2}{4\\pi^2} \\right )}^{1/3} - R$$\n",
        "    * Write the proof in Markdown in the notebook directly, no need to use python.\n",
        "    * Follow the [markdown guide](https://colab.research.google.com/notebooks/markdown_guide.ipynb) if you need some help with Markdown.\n",
        "    * Do pay particular attention to the `Equations:` section, and the linked [LaTeX/Mathematics](https://en.wikibooks.org/wiki/LaTeX/Mathematics ) wikibook to make nicely formatted equations. You will need this for the assignments.\n",
        "  2. [2] Write a function to evaluate $h$.\n",
        "  3. [2] Write a program that requests user input of $T$ and then prints out the altitude in kilometre\n",
        "  4. [2] Hence find the altitudes of satellites that orbit the Earth once a day (‘geosynchronous’ orbit), once every 90 minutes, and once every 45 minutes. What do you conclude from the last of these calculations?"
      ]
    },
    {
      "cell_type": "markdown",
      "source": [
        "Question 1. where you have to write out the things"
      ],
      "metadata": {
        "id": "leZJa2yrJRRA"
      }
    },
    {
      "cell_type": "markdown",
      "source": [
        "Using the equation: $Fg = Fc$\n",
        "\n",
        "Therefore:\n",
        "$\\frac{Gmm}{r^2} = \\frac{mv^2}{r}$\n",
        "\n",
        "Substituting in,\n",
        "$ v = \\frac {2\\pi r}{T}$ gives us:\n",
        "\n",
        "$\\frac{GMm}{r^2}=\\frac{m}{r} (\\frac{2\\pi r}{T})^2$ then we can rearrange this to\n",
        "$\\frac{GMm}{r^2}=\\frac{4m\\pi^2 r^2}{T^2}$ this cancles to\n",
        "$\\frac{Gm}{r^2} = \\frac{4\\pi^2 r}{T^2}$\n",
        "\n",
        "This can then be arranged to: $GMT^2 = 4\\pi^2 r^3$\n",
        "\n",
        "To then focus on r as $r = R + h$, we rearrange the equation to get:\n",
        "$r^3 = (\\frac{GMT^2}{4\\pi^2})$\n",
        "\n",
        "Using that new equation we cna replace the $r$ to $R+h$:\n",
        "\n",
        "$R+h=(\\frac{GMT^2}{4\\pi^2})^\\frac{1}{3}$\n",
        "\n",
        "Finally by moving that value of R we can then get to the equation thats stated abouve!\n",
        "\n",
        "$h=(\\frac{GMT^2}{4\\pi})^\\frac{1}{3} - R$"
      ],
      "metadata": {
        "id": "P0K_grekJV-u"
      }
    },
    {
      "cell_type": "markdown",
      "source": [
        "part 2."
      ],
      "metadata": {
        "id": "lfWE9wiFJdP0"
      }
    },
    {
      "cell_type": "code",
      "execution_count": 1,
      "metadata": {
        "id": "kTlf30boHTiB"
      },
      "outputs": [],
      "source": [
        "#cant lie didnt really know what this was on about\n",
        "def calculate_altitude(A):\n",
        "  #this is using the def and return function to find the equation for h\n",
        "    G = 6.674e-11\n",
        "    M = 5.972e24\n",
        "    R = 6.371e6\n",
        "#this is using the equation that we are given and the costants found online to then create this.\n",
        "    h = (G * M * A**2 / (4 * np.pi**2))**(1/3) - R\n",
        "    return h"
      ]
    },
    {
      "cell_type": "markdown",
      "source": [
        "part 3"
      ],
      "metadata": {
        "id": "Z0GbedPRJh4y"
      }
    },
    {
      "cell_type": "code",
      "source": [
        "# Program to request user input for orbital period and calculate altitude\n",
        "\n",
        "# Request user input for the orbital period in seconds\n",
        "try:\n",
        "    T_seconds = float(input(\"Enter the orbital period in seconds: \")) #this is the promt that  gets the user input\n",
        "    # Calculate altitude in meters\n",
        "    altitude_meters = calculate_altitude(T_seconds) #this is the code that calals the altertude thing from earlier with the floats and then stores it in a new anme\n",
        "\n",
        "    # Convert altitude to kilometers\n",
        "    altitude_kilometers = altitude_meters / 1000 # conversion\n",
        "\n",
        "    # this gives us the answer in km\n",
        "    print(f\"The altitude of the satellite is: {altitude_kilometers:.2f} km\") #this is then the disply for printing the answer we get to a set no. of decimals\n",
        "\n",
        "except ValueError:\n",
        "    print(\"Invalid input. Please enter a number for the orbital period.\")\n",
        "except Exception as e:\n",
        "    print(f\"An error occurred: {e}\") # thiw is the alternative for the answer incase the output of input is incorrect and we dont get calculated an answer\n",
        "# for this an entir day is 86400 seconds"
      ],
      "metadata": {
        "id": "JxhKba5VJjDC",
        "colab": {
          "base_uri": "https://localhost:8080/"
        },
        "outputId": "57883c5e-7912-49fb-d318-88fad0e3a493"
      },
      "execution_count": 4,
      "outputs": [
        {
          "output_type": "stream",
          "name": "stdout",
          "text": [
            "Enter the orbital period in seconds: 86400\n",
            "The altitude of the satellite is: 35869.07 km\n"
          ]
        }
      ]
    },
    {
      "cell_type": "code",
      "source": [
        "#i didnt know how to do this another way so this is the same code that then i am repeating\n",
        "#for the new period\n",
        "try:\n",
        "    T_seconds = float(input(\"Enter the orbital period in seconds: \"))\n",
        "    altitude_meters = calculate_altitude(T_seconds)\n",
        "    altitude_kilometers = altitude_meters / 1000\n",
        "    print(f\"The altitude of the satellite is: {altitude_kilometers:.2f} km\")\n",
        "except ValueError:\n",
        "    print(\"Invalid input. Please enter a number for the orbital period.\")\n",
        "except Exception as e:\n",
        "    print(f\"An error occurred: {e}\")\n",
        "#note for the other questions that the time of 90 miuntes in seconds is 5400"
      ],
      "metadata": {
        "id": "4hMdBmkTJpJA",
        "colab": {
          "base_uri": "https://localhost:8080/"
        },
        "outputId": "7c555182-6d66-4684-bcf6-b3b7d760ac52"
      },
      "execution_count": 5,
      "outputs": [
        {
          "output_type": "stream",
          "name": "stdout",
          "text": [
            "Enter the orbital period in seconds: 5400\n",
            "The altitude of the satellite is: 281.39 km\n"
          ]
        }
      ]
    },
    {
      "cell_type": "code",
      "source": [
        "try:\n",
        "    T_seconds = float(input(\"Enter the orbital period in seconds: \"))\n",
        "    altitude_meters = calculate_altitude(T_seconds)\n",
        "    altitude_kilometers = altitude_meters / 1000\n",
        "    print(f\"The altitude of the satellite is: {altitude_kilometers:.2f} km\")\n",
        "except ValueError:\n",
        "    print(\"Invalid input. Please enter a number for the orbital period.\")\n",
        "except Exception as e:\n",
        "    print(f\"An error occurred: {e}\")\n",
        "#note for the other questions that the time of 45 miuntes in seconds is 2700"
      ],
      "metadata": {
        "id": "ZMTtV_eeJuFD",
        "colab": {
          "base_uri": "https://localhost:8080/"
        },
        "outputId": "fbc86fb7-9bdf-4803-82e0-c50a1c70be9b"
      },
      "execution_count": 6,
      "outputs": [
        {
          "output_type": "stream",
          "name": "stdout",
          "text": [
            "Enter the orbital period in seconds: 2700\n",
            "The altitude of the satellite is: -2180.25 km\n"
          ]
        }
      ]
    },
    {
      "cell_type": "markdown",
      "metadata": {
        "id": "HtY7CJ85HTiC"
      },
      "source": [
        "## Exercise 3\n",
        "\n",
        "  1. [4] Write a function `linfit(x,y)` to perform a least squares fit of data using the method described last year in PX1224 week 4 to return estimates of slope and intercept (and their errors).\n",
        "  2. [2] Put your functions into your own package, using a suitable file name. Type the code you want to be in the package (including comments!) in a cell of the notebook, pick a name for the file and add `%%writefile <file_name>.py` at the top of the cell to have the notebook create the file.\n",
        "  3. [2] Test out your package by importing it, defining some test data and plotting a graph of the data and fitted straight line. (Label the axes and give the graph a title.)\n",
        "\n",
        "**IMPORTANT**: The `linfit` function itself must be self contained. It must only take in the x- and y-data, and return m, dm, c and dc. It must not do anything else, such as print or plot data - that should all be done outside the function."
      ]
    },
    {
      "cell_type": "markdown",
      "source": [
        "part 1."
      ],
      "metadata": {
        "id": "zG5ZCNV5KF02"
      }
    },
    {
      "cell_type": "markdown",
      "source": [
        "also part 2 is there"
      ],
      "metadata": {
        "id": "kJG-hk44KQLl"
      }
    },
    {
      "cell_type": "code",
      "execution_count": 7,
      "metadata": {
        "id": "00giwLXGHTiD",
        "colab": {
          "base_uri": "https://localhost:8080/"
        },
        "outputId": "b75aa0b2-2e1f-48b1-955a-3a8dece6c04f"
      },
      "outputs": [
        {
          "output_type": "stream",
          "name": "stdout",
          "text": [
            "Writing linfit_package.py\n"
          ]
        }
      ],
      "source": [
        "%%writefile linfit_package.py\n",
        "#this is for the question 2 where you have to add that thing i guess???\n",
        "#but pls dont ask i dont really knwo whaat it does\n",
        "import matplotlib.pyplot as plt\n",
        "import numpy as np\n",
        "# Define the linfit function here\n",
        "def linfit(x, y):\n",
        "\n",
        "    x = np.array(x) #this is then crrating the arrays and things for the x and y\n",
        "    y = np.array(y)\n",
        "\n",
        "    n = len(x) #number of data points\n",
        "    sum_x = np.sum(x) #sum of all the x vaules\n",
        "    sum_y = np.sum(y) #sum of all the y values\n",
        "    sum_x2 = np.sum(x**2) #sum of the squares of all the x values\n",
        "    sum_xy = np.sum(x * y) #sum of all the square of the y values\n",
        "\n",
        "    delta = n * sum_x2 - sum_x**2  #this is the delta function that is needed to later find the slope of the and the intercept\n",
        "\n",
        "    m = (n * sum_xy - sum_x * sum_y) / delta #this is the equaiton for the slope of the line\n",
        "    c = (sum_y * sum_x2 - sum_x * sum_xy) / delta #this is the eqiation for the intercept\n",
        "\n",
        "    # Calculate errors this is all taken from week 4 work in year 1\n",
        "    residuals = y - (m * x + c)\n",
        "    residuals_sum_sq = np.sum(residuals**2)\n",
        "    dm_sqr = 1/(n-2)*residuals_sum_sq/delta\n",
        "    dc_sqr = 1/(n-2)*(sum_x2/n + (sum_x/n)**2)*residuals_sum_sq/delta\n",
        "\n",
        "    dm = np.sqrt(dm_sqr) #stuff from last years code that i copied and cant rememer its a maths thing\n",
        "    dc = np.sqrt(dc_sqr)\n",
        "\n",
        "    return m, dm, c, dc\n",
        "\n",
        "#cant lie dont know whats going on here!\n",
        "#generate data\n",
        "xdata_ = [3,5,2,4,7,9,9,6,2,8]\n",
        "ydata_ = [4,1,5,6,2,8,6,9,1,3] # the data is the same lenght which is good\n",
        "\n",
        "# Use the linfit function to get the slope, intercept, and their errors\n",
        "m, dm, c, dc = linfit(xdata_, ydata_)\n",
        "\n",
        "# Create a polynomial\n",
        "ploy1d_ = np.poly1d([m, c])\n",
        "x = np.linspace(min(xdata_), max(xdata_), 100)\n",
        "\n",
        "# Plot the original data best-fit line and then editit ti be good or look nice\n",
        "plt.plot(x, ploy1d_(x), \"k--\", linewidth = 1.5, label='Best Fit Line')\n",
        "plt.scatter(xdata_, ydata_, color = \"red\", marker = \"+\", label = \"Data Points\")\n",
        "plt.xlabel(\"x\")\n",
        "plt.ylabel(\"y\")\n",
        "plt.title(\"Linear Fit of Data\")\n",
        "plt.legend()\n",
        "plt.grid()\n",
        "plt.show()\n",
        "\n",
        "# Print the results from linfit for the errors and things while only generating them to a specific decimal\n",
        "print(f\"Slope (m): {m:.2f} +/- {dm:.2f}\")\n",
        "print(f\"Intercept (c): {c:.2f} +/- {dc:.2f}\")"
      ]
    },
    {
      "cell_type": "markdown",
      "source": [
        "part 3."
      ],
      "metadata": {
        "id": "XMlUA2hLKTAC"
      }
    },
    {
      "cell_type": "code",
      "source": [
        "# Import the linfit function from the package\n",
        "from linfit_package import linfit #pulling the thing from the equation snad the workings abouve\n",
        "import matplotlib.pyplot as plt\n",
        "import numpy as np\n",
        "\n",
        "# Define some test data this is radndom numbers\n",
        "x_data = np.array([1, 2, 3, 4, 5, 6, 7, 8, 9, 10])\n",
        "y_data = np.array([2.7, 3.5, 4.9, 5.0, 6.1, 7.5, 8.0, 9.0, 10.9, 11.0])\n",
        "\n",
        "# Use the linfit function to get the slope, intercept, and their errors\n",
        "m, dm, c, dc = linfit(x_data, y_data)\n",
        "\n",
        "# Create a polynomial using the fitted parameters\n",
        "fitted_line = m * x_data + c #this is the striaght line equation that is then used for it\n",
        "\n",
        "# Plot the original data and the fitted line\n",
        "plt.scatter(x_data, y_data, label='Data')\n",
        "plt.plot(x_data, fitted_line, color='red', label='Fitted Line') #plotting\n",
        "\n",
        "# Label the axes and give the graph a title nice things\n",
        "plt.xlabel('X-axis')\n",
        "plt.ylabel('Y-axis')\n",
        "plt.title('Test Data')\n",
        "plt.legend()\n",
        "plt.grid()\n",
        "plt.show()\n",
        "\n",
        "# Print the results\n",
        "print(f\"Slope (m): {m:.2f} +/- {dm:.2f}\")\n",
        "print(f\"Intercept (c): {c:.2f} +/- {dc:.2f}\")"
      ],
      "metadata": {
        "id": "nFtPHF7NKHV_",
        "colab": {
          "base_uri": "https://localhost:8080/",
          "height": 507
        },
        "outputId": "3182b88e-9ace-4524-a127-777d3de5ce76"
      },
      "execution_count": 9,
      "outputs": [
        {
          "output_type": "display_data",
          "data": {
            "text/plain": [
              "<Figure size 640x480 with 1 Axes>"
            ],
            "image/png": "[encoded data removed]"
          },
          "metadata": {}
        },
        {
          "output_type": "stream",
          "name": "stdout",
          "text": [
            "Slope (m): 0.95 +/- 0.01\n",
            "Intercept (c): 1.61 +/- 0.11\n"
          ]
        }
      ]
    }
  ],
  "metadata": {
    "colab": {
      "name": "Functions.ipynb",
      "provenance": [],
      "toc_visible": true,
      "include_colab_link": true
    },
    "kernelspec": {
      "display_name": "Python 3",
      "language": "python",
      "name": "python3"
    },
    "language_info": {
      "codemirror_mode": {
        "name": "ipython",
        "version": 3
      },
      "file_extension": ".py",
      "mimetype": "text/x-python",
      "name": "python",
      "nbconvert_exporter": "python",
      "pygments_lexer": "ipython3",
      "version": "3.7.10"
    },
    "latex_metadata": {
      "affiliation": "Cardiff University",
      "author": "Vivien Raymond",
      "title": "Functions"
    }
  },
  "nbformat": 4,
  "nbformat_minor": 0
}